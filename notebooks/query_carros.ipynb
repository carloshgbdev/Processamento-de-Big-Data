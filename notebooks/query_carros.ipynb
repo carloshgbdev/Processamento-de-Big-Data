{
 "cells": [
  {
   "cell_type": "markdown",
   "metadata": {},
   "source": [
    "## Objetivo\n",
    "\n",
    "Mostrar como se utiliza a ferramenta PySpark para montar querys simples para se trabalhar com os dados."
   ]
  },
  {
   "cell_type": "markdown",
   "metadata": {},
   "source": [
    "## Criação da Sessão e Carregamento dos Dados\n",
    "\n",
    "Primeiramente, precisamos criar uma sessão e, só então, utilizar essa sessão para fazer a leitura dos dados. "
   ]
  },
  {
   "cell_type": "code",
   "execution_count": 1,
   "metadata": {},
   "outputs": [],
   "source": [
    "from pyspark.sql import SparkSession\n",
    "\n",
    "# Inicializa a sessão do Spark\n",
    "spark = SparkSession.builder \\\n",
    "    .appName(\"Query_Carros\") \\\n",
    "    .config(\"spark.sql.execution.arrow.enabled\", \"true\") \\\n",
    "    .getOrCreate()"
   ]
  },
  {
   "cell_type": "code",
   "execution_count": 2,
   "metadata": {},
   "outputs": [],
   "source": [
    "# Leitura de dados de um arquivo CSV\n",
    "df = spark.read.csv(\"../data/New_York_cars.csv\", header=True, inferSchema=True)"
   ]
  },
  {
   "cell_type": "markdown",
   "metadata": {},
   "source": [
    "## Schema e Criação de uma Tabela"
   ]
  },
  {
   "cell_type": "code",
   "execution_count": 3,
   "metadata": {},
   "outputs": [
    {
     "name": "stdout",
     "output_type": "stream",
     "text": [
      "root\n",
      " |-- newOrused: string (nullable = true)\n",
      " |-- name: string (nullable = true)\n",
      " |-- money: integer (nullable = true)\n",
      " |-- Exterior_color: string (nullable = true)\n",
      " |-- Interior_color: string (nullable = true)\n",
      " |-- Drivetrain: string (nullable = true)\n",
      " |-- MPG: string (nullable = true)\n",
      " |-- Fuel_type: string (nullable = true)\n",
      " |-- Transmission: string (nullable = true)\n",
      " |-- Engine: string (nullable = true)\n",
      " |-- Mileage: integer (nullable = true)\n",
      " |-- Convenience: string (nullable = true)\n",
      " |-- Entertainment: string (nullable = true)\n",
      " |-- Exterior: string (nullable = true)\n",
      " |-- Safety: string (nullable = true)\n",
      " |-- Seating: string (nullable = true)\n",
      " |-- Accidents_or_damage: string (nullable = true)\n",
      " |-- Clean_title: string (nullable = true)\n",
      " |-- 1-owner_vehicle: string (nullable = true)\n",
      " |-- Personal_use_only: string (nullable = true)\n",
      " |-- brand: string (nullable = true)\n",
      " |-- Year: integer (nullable = true)\n",
      " |-- Model: string (nullable = true)\n",
      " |-- currency: string (nullable = true)\n",
      "\n"
     ]
    }
   ],
   "source": [
    "df.printSchema()"
   ]
  },
  {
   "cell_type": "markdown",
   "metadata": {},
   "source": [
    "Vemos que o PySpark consegue inferir o schema do .csv. Ele também pode carregar arquivos diretamente de bancos de dados via consultas, ou seja, ele seria capaz de inferir o schema do banco de dados ao se trabalhar com ele.\n",
    "\n",
    "Vamos registrar o nosso dataframe como uma tabela. Apesar de podermos trabalhar com o dataframe da mesma maneira que trabalhamos com o Pandas, é interessante utilizarmos consultas SQL devido ao contexto em que estamos inserido (disciplina de Banco de Dados)."
   ]
  },
  {
   "cell_type": "code",
   "execution_count": 4,
   "metadata": {},
   "outputs": [],
   "source": [
    "# Criação da tabela CARROS\n",
    "df.createOrReplaceTempView(\"CARROS\")"
   ]
  },
  {
   "cell_type": "code",
   "execution_count": 5,
   "metadata": {},
   "outputs": [
    {
     "name": "stdout",
     "output_type": "stream",
     "text": [
      "+---------+--------------------+-----+--------------------+--------------+----------+------+---------+------------------+--------------------+-------+--------------------+--------------------+--------------------+--------------------+--------------------+-------------------+-----------+---------------+-----------------+-----+----+--------------------+--------+\n",
      "|newOrused|                name|money|      Exterior_color|Interior_color|Drivetrain|   MPG|Fuel_type|      Transmission|              Engine|Mileage|         Convenience|       Entertainment|            Exterior|              Safety|             Seating|Accidents_or_damage|Clean_title|1-owner_vehicle|Personal_use_only|brand|Year|               Model|currency|\n",
      "+---------+--------------------+-----+--------------------+--------------+----------+------+---------+------------------+--------------------+-------+--------------------+--------------------+--------------------+--------------------+--------------------+-------------------+-----------+---------------+-----------------+-----+----+--------------------+--------+\n",
      "|      New|2023 Acura Integr...|33095| Liquid Carbon Me...|        Ebony |       Fwd| 30–37| Gasoline|     Automatic Cvt|1.5L I4 16V Gdi D...|      5|  Adaptive Cruise...|  Apple CarPlay/A...|  Alloy WheelsSun...|  Automatic Emerg...|     Leather Seats  |               NULL|       NULL|           NULL|             NULL|Acura|2023|        Integra Base|       $|\n",
      "|      New|2023 Acura Mdx A-...|61745| Majestic Black P...|        Ebony |       Awd| 19–25| Gasoline|10-Speed Automatic|3.5L V6 24V Gdi Sohc|      0|  Adaptive Cruise...|  Apple CarPlay/A...|  Alloy WheelsSun...|  Backup CameraBr...|  Leather SeatsMe...|               NULL|       NULL|           NULL|             NULL|Acura|2023|          Mdx A-Spec|       $|\n",
      "|      New|2023 Acura Integr...|38095| Majestic Black P...|        Ebony |       Fwd| 26–36| Gasoline|    6-Speed Manual|1.5L I4 16V Gdi D...|      5|  Adaptive Cruise...|  Apple CarPlay/A...|  Alloy WheelsSun...|  Backup CameraBr...|  Leather SeatsMe...|               NULL|       NULL|           NULL|             NULL|Acura|2023|Integra A-Spec Te...|       $|\n",
      "|      New|2023 Acura Tlx A-...|47995| Majestic Black P...|        Ebony |       Fwd| 22–30| Gasoline|10-Speed Automatic|2.0L I4 16V Gdi D...|     11|  Adaptive Cruise...|  Apple CarPlay/A...|  Alloy WheelsSun...|  Backup CameraBr...|  Leather SeatsMe...|               NULL|       NULL|           NULL|             NULL|Acura|2023|          Tlx A-Spec|       $|\n",
      "|      New|2023 Acura Tlx A-...|47995| Platinum White P...|          Red |       Fwd| 22–30| Gasoline|10-Speed Automatic|2.0L I4 16V Gdi D...|      2|  Adaptive Cruise...|  Apple CarPlay/A...|  Alloy WheelsSun...|  Backup CameraBr...|  Leather SeatsMe...|               NULL|       NULL|           NULL|             NULL|Acura|2023|          Tlx A-Spec|       $|\n",
      "|      New|2023 Acura Mdx Te...|58245| Majestic Black P...|        Ebony |       Awd| 19–25| Gasoline|10-Speed Automatic|3.5L V6 24V Gdi Sohc|      4|  Adaptive Cruise...|  BluetoothHomeLi...|  Alloy WheelsSun...|  Backup CameraBr...|  Leather SeatsMe...|               NULL|       NULL|           NULL|             NULL|Acura|2023|      Mdx Technology|       $|\n",
      "|      New|2023 Acura Mdx A-...|61645| Platinum White P...|          Red |       Awd| 19–25| Gasoline|10-Speed Automatic|3.5L V6 24V Gdi Sohc|     19|  Adaptive Cruise...|  Apple CarPlay/A...|  Alloy WheelsSun...|  Backup CameraBr...|  Leather SeatsMe...|               NULL|       NULL|           NULL|             NULL|Acura|2023|          Mdx A-Spec|       $|\n",
      "|      New|2023 Acura Integr...|37395|    Apex Blue Pearl |       Orchid |       Fwd| 26–36| Gasoline|    6-Speed Manual|1.5L I4 16V Gdi D...|      2|  Adaptive Cruise...|  Apple CarPlay/A...|  Alloy WheelsSun...|  Backup CameraBl...|  Leather SeatsMe...|               NULL|       NULL|           NULL|             NULL|Acura|2023|Integra A-Spec Te...|       $|\n",
      "|      New|2023 Acura Rdx A-...|48395| Lunar Silver Met...|        Ebony |       Fwd| 22–27| Gasoline|10-Speed Automatic|2.0L I4 16V Gdi D...|      2|  Adaptive Cruise...|  Apple CarPlay/A...|  Alloy WheelsSun...|  Backup CameraBr...|  Leather SeatsMe...|               NULL|       NULL|           NULL|             NULL|Acura|2023|          Rdx A-Spec|       $|\n",
      "|      New| 2023 Acura Mdx Base|53545| Platinum White P...|    Parchment |       Awd| 19–25| Gasoline|10-Speed Automatic|3.5L V6 24V Gdi Sohc|     20|  Adaptive Cruise...|  Apple CarPlay/A...|  Alloy WheelsSun...|  Backup CameraBr...|  Leather SeatsMe...|               NULL|       NULL|           NULL|             NULL|Acura|2023|            Mdx Base|       $|\n",
      "|      New|2023 Acura Tlx Ty...|58145| Platinum White P...|          Red |       Awd| 19–24| Gasoline|10-Speed Automatic|3.0L V6 24V Gdi D...|     10|  Adaptive Cruise...|  Apple CarPlay/A...|  Alloy WheelsSun...|  Backup CameraBl...|  Leather SeatsMe...|               NULL|       NULL|           NULL|             NULL|Acura|2023|          Tlx Type S|       $|\n",
      "|      New|2023 Acura Tlx A-...|49995| Modern Steel Met...|          Red |       Awd| 21–29| Gasoline|10-Speed Automatic|2.0L I4 16V Gdi D...|     16|  Adaptive Cruise...|  Apple CarPlay/A...|  Alloy WheelsSun...|  Backup CameraBr...|  Leather SeatsMe...|               NULL|       NULL|           NULL|             NULL|Acura|2023|          Tlx A-Spec|       $|\n",
      "|      New|2023 Acura Rdx A-...|55345|              White |          NULL|       Awd| 21–26| Gasoline|10-Speed Automatic|2.0L I4 16V Gdi D...|     10|  Adaptive Cruise...|  BluetoothHomeLi...|  Alloy WheelsSun...|  Blind Spot Moni...|  Leather SeatsMe...|               NULL|       NULL|           NULL|             NULL|Acura|2023|  Rdx A-Spec Advance|       $|\n",
      "|      New|2023 Acura Rdx A-...|55240| Lunar Silver Met...|        Ebony |       Awd| 21–26| Gasoline|10-Speed Automatic|2.0L I4 16V Gdi D...|      2|  Adaptive Cruise...|  Apple CarPlay/A...|  Alloy WheelsSun...|  Backup CameraBr...|  Leather SeatsMe...|               NULL|       NULL|           NULL|             NULL|Acura|2023|Rdx A-Spec Advanc...|       $|\n",
      "|      New|2023 Acura Integr...|38095|    Apex Blue Pearl |        Ebony |       Fwd| 26–36| Gasoline|    6-Speed Manual|1.5L I4 16V Gdi D...|      2|  Adaptive Cruise...|  Apple CarPlay/A...|  Alloy WheelsSun...|  Backup CameraBr...|  Leather SeatsMe...|               NULL|       NULL|           NULL|             NULL|Acura|2023|Integra A-Spec Te...|       $|\n",
      "|      New|2023 Acura Mdx Ty...|74995|               Gray |          NULL|       Awd| 17–21| Gasoline|10-Speed Automatic|3.0L V6 24V Gdi D...|     40|  Adaptive Cruise...|  BluetoothHomeLi...|  Alloy WheelsSun...|  Blind Spot Moni...|  Leather SeatsMe...|               NULL|       NULL|           NULL|             NULL|Acura|2023|Mdx Type S W/Adva...|       $|\n",
      "|      New|2023 Acura Integr...|36300|           Majestic |        Ebony |       Fwd| 26–36| Gasoline|    6-Speed Manual|1.5L I4 16V Gdi D...|     10|  Adaptive Cruise...|  Apple CarPlay/A...|  Alloy WheelsSun...|  Backup CameraBr...|  Leather SeatsMe...|               NULL|       NULL|           NULL|             NULL|Acura|2023|Integra A-Spec Te...|       $|\n",
      "|      New|2023 Acura Rdx A-...|55045| Majestic Black P...|          Red |       Awd|  NULL| Gasoline|10-Speed Automatic|2.0L I4 16V Gdi D...|      7|  Heated SeatsHea...|  Apple CarPlay/A...|  Alloy WheelsSun...|  Brake AssistLan...|       Memory Seat  |               NULL|       NULL|           NULL|             NULL|Acura|2023|Rdx A-Spec Advanc...|       $|\n",
      "|      New|2023 Acura Tlx A-...|50195| Platinum White P...|          Red |       Awd|  NULL| Gasoline|10-Speed Automatic|2.0L I4 16V Gdi D...|      4|  Heated SeatsNav...|  Apple CarPlay/A...|  Alloy WheelsSun...|  Backup CameraBr...|       Memory Seat  |               NULL|       NULL|           NULL|             NULL|Acura|2023|          Tlx A-Spec|       $|\n",
      "|      New|2023 Acura Integr...|38095|                Red |       Orchid |       Fwd| 29–36| Gasoline|     Automatic Cvt|1.5L I4 16V Gdi D...|      4|  Adaptive Cruise...|  BluetoothPremiu...|  Alloy WheelsSun...|  Backup CameraBl...|  Leather SeatsMe...|               NULL|       NULL|           NULL|             NULL|Acura|2023|Integra W/A-Spec ...|       $|\n",
      "+---------+--------------------+-----+--------------------+--------------+----------+------+---------+------------------+--------------------+-------+--------------------+--------------------+--------------------+--------------------+--------------------+-------------------+-----------+---------------+-----------------+-----+----+--------------------+--------+\n",
      "only showing top 20 rows\n",
      "\n"
     ]
    }
   ],
   "source": [
    "spark.sql(\"SELECT * FROM CARROS\").show()"
   ]
  },
  {
   "cell_type": "markdown",
   "metadata": {},
   "source": [
    "## Consultas SQL\n",
    "\n",
    "Vamos tentar responder as seguintes perguntas utilizando de consultas SQL para trabalhar com os dados:\n",
    "\n",
    "1. Quantos carros novos estão disponíveis?\n",
    "2. Qual o carro usado mais caro e qual o carro novo mais barato?\n",
    "3. Quais são os modelos de carros disponíveis para a marca 'Acura'?\n",
    "4. Quantos carros possuem o recurso 'Backup Camera' em suas especificações de segurança?\n",
    "5. Qual é a distribuição de anos dos carros listados?"
   ]
  },
  {
   "cell_type": "markdown",
   "metadata": {},
   "source": [
    "#### Quantos carros novos estão disponíveis?"
   ]
  },
  {
   "cell_type": "code",
   "execution_count": 6,
   "metadata": {},
   "outputs": [
    {
     "name": "stdout",
     "output_type": "stream",
     "text": [
      "+-----------+\n",
      "|count(name)|\n",
      "+-----------+\n",
      "|      29280|\n",
      "+-----------+\n",
      "\n"
     ]
    }
   ],
   "source": [
    "spark.sql(\"SELECT COUNT(name) FROM CARROS WHERE newOrused = 'New'\").show()"
   ]
  },
  {
   "cell_type": "markdown",
   "metadata": {},
   "source": [
    "#### Qual o carro usado mais caro e qual o carro novo mais barato?"
   ]
  },
  {
   "cell_type": "code",
   "execution_count": 7,
   "metadata": {},
   "outputs": [
    {
     "name": "stdout",
     "output_type": "stream",
     "text": [
      "+----------------------------+-------+\n",
      "|name                        |money  |\n",
      "+----------------------------+-------+\n",
      "|2015 Porsche 918 Spyder Base|2200000|\n",
      "+----------------------------+-------+\n",
      "\n"
     ]
    }
   ],
   "source": [
    "spark.sql(\"\"\"\n",
    "    SELECT name, money \n",
    "    FROM CARROS \n",
    "    WHERE newOrused = 'Used' \n",
    "    ORDER BY money DESC \n",
    "    LIMIT 1\n",
    "\"\"\").show(truncate=False)"
   ]
  },
  {
   "cell_type": "code",
   "execution_count": 8,
   "metadata": {},
   "outputs": [
    {
     "name": "stdout",
     "output_type": "stream",
     "text": [
      "+---------------------+-----+\n",
      "|name                 |money|\n",
      "+---------------------+-----+\n",
      "|2014 Bmw 535 I Xdrive|14634|\n",
      "+---------------------+-----+\n",
      "\n"
     ]
    }
   ],
   "source": [
    "spark.sql(\"\"\"\n",
    "    SELECT name, money \n",
    "    FROM CARROS \n",
    "    WHERE newOrused = 'New' \n",
    "    ORDER BY money ASC \n",
    "    LIMIT 1\n",
    "\"\"\").show(truncate=False)"
   ]
  },
  {
   "cell_type": "markdown",
   "metadata": {},
   "source": [
    "#### Quais são os modelos de carros disponíveis para a marca 'Acura'?"
   ]
  },
  {
   "cell_type": "code",
   "execution_count": 9,
   "metadata": {},
   "outputs": [
    {
     "name": "stdout",
     "output_type": "stream",
     "text": [
      "+-------------------------------------+\n",
      "|model                                |\n",
      "+-------------------------------------+\n",
      "|Rdx A-Spec Advance Package           |\n",
      "|Rlx Base                             |\n",
      "|Mdx 3.5L                             |\n",
      "|Mdx Type S W/Advance                 |\n",
      "|Tlx Type S W/Performance Tire        |\n",
      "|Ilx W/Premium Pkg                    |\n",
      "|Rdx With Navigation&Sunroof          |\n",
      "|Rlx Navigation                       |\n",
      "|Ilx Hybrid 1.5L                      |\n",
      "|Tlx Technology & A-Spec              |\n",
      "|Tl Base                              |\n",
      "|Rdx Base (A6)                        |\n",
      "|Zdx Base                             |\n",
      "|Tlx                                  |\n",
      "|Tl 3.5                               |\n",
      "|Ilx Technology Plus & A-Spec Packages|\n",
      "|Ilx Technology Package               |\n",
      "|Tsx Technology                       |\n",
      "|Mdx Advance                          |\n",
      "|Tsx Special Edition                  |\n",
      "+-------------------------------------+\n",
      "only showing top 20 rows\n",
      "\n"
     ]
    }
   ],
   "source": [
    "spark.sql(\"\"\"\n",
    "    SELECT DISTINCT model\n",
    "    FROM CARROS \n",
    "    WHERE brand = 'Acura'\n",
    "\"\"\").show(truncate=False)"
   ]
  },
  {
   "cell_type": "code",
   "execution_count": 10,
   "metadata": {},
   "outputs": [
    {
     "name": "stdout",
     "output_type": "stream",
     "text": [
      "+---------------------+\n",
      "|count(DISTINCT model)|\n",
      "+---------------------+\n",
      "|143                  |\n",
      "+---------------------+\n",
      "\n"
     ]
    }
   ],
   "source": [
    "spark.sql(\"\"\"\n",
    "    SELECT COUNT(DISTINCT model)\n",
    "    FROM CARROS \n",
    "    WHERE brand = 'Acura'\n",
    "\"\"\").show(truncate=False)"
   ]
  },
  {
   "cell_type": "markdown",
   "metadata": {},
   "source": [
    "#### Quantos carros possuem o recurso 'Backup Camera' em suas especificações de segurança?"
   ]
  },
  {
   "cell_type": "code",
   "execution_count": 11,
   "metadata": {},
   "outputs": [
    {
     "name": "stdout",
     "output_type": "stream",
     "text": [
      "+-----------+\n",
      "|count(name)|\n",
      "+-----------+\n",
      "|122940     |\n",
      "+-----------+\n",
      "\n"
     ]
    }
   ],
   "source": [
    "spark.sql(\"\"\"\n",
    "    SELECT COUNT(name)\n",
    "    FROM CARROS \n",
    "    WHERE Safety LIKE '%Backup Camera%'\n",
    "\"\"\").show(truncate=False)"
   ]
  },
  {
   "cell_type": "markdown",
   "metadata": {},
   "source": [
    "#### Qual é a distribuição de anos dos carros listados?"
   ]
  },
  {
   "cell_type": "code",
   "execution_count": 12,
   "metadata": {},
   "outputs": [
    {
     "name": "stdout",
     "output_type": "stream",
     "text": [
      "+----+-----+\n",
      "|Year|count|\n",
      "+----+-----+\n",
      "|2023|19822|\n",
      "|2022|18147|\n",
      "|2021|17599|\n",
      "|2020|20874|\n",
      "|2019|19733|\n",
      "|2018|16325|\n",
      "|2017|14781|\n",
      "|2016|12965|\n",
      "|2015|11960|\n",
      "|2014|9629 |\n",
      "|2013|7914 |\n",
      "|2012|5741 |\n",
      "+----+-----+\n",
      "\n"
     ]
    }
   ],
   "source": [
    "year_dist = spark.sql(\"\"\"\n",
    "    SELECT Year, COUNT(*) as count\n",
    "    FROM CARROS \n",
    "    GROUP BY Year\n",
    "    ORDER BY Year DESC\n",
    "\"\"\")\n",
    "\n",
    "year_dist.show(truncate=False)"
   ]
  },
  {
   "cell_type": "code",
   "execution_count": 13,
   "metadata": {},
   "outputs": [
    {
     "data": {
      "image/png": "[encoded data removed]",
      "text/plain": [
       "<Figure size 1000x600 with 1 Axes>"
      ]
     },
     "metadata": {},
     "output_type": "display_data"
    }
   ],
   "source": [
    "import pandas as pd\n",
    "import matplotlib.pyplot as plt\n",
    "\n",
    "# Converter o resultado para um DataFrame Pandas\n",
    "pd_year_dist = year_dist.toPandas()\n",
    "\n",
    "# Criar o histograma\n",
    "plt.figure(figsize=(10, 6))\n",
    "plt.bar(pd_year_dist['Year'], pd_year_dist['count'], color='green')\n",
    "plt.xlabel('Year')\n",
    "plt.ylabel('Number of Cars')\n",
    "plt.title('Distribution of Car Years')\n",
    "plt.xticks(rotation=45)\n",
    "plt.grid(axis='y')\n",
    "\n",
    "# Desativar a grade\n",
    "plt.grid(False)\n",
    "\n",
    "# Mostrar o histograma\n",
    "plt.show()"
   ]
  },
  {
   "cell_type": "markdown",
   "metadata": {},
   "source": [
    "## Desligamento da Sessão\n",
    "\n",
    "É importante que, após términar de usar a aplicação, a sessão seja encerrada para evitar consumo de memória."
   ]
  },
  {
   "cell_type": "code",
   "execution_count": 14,
   "metadata": {},
   "outputs": [],
   "source": [
    "spark.stop()"
   ]
  }
 ],
 "metadata": {
  "kernelspec": {
   "display_name": "seminario",
   "language": "python",
   "name": "python3"
  },
  "language_info": {
   "codemirror_mode": {
    "name": "ipython",
    "version": 3
   },
   "file_extension": ".py",
   "mimetype": "text/x-python",
   "name": "python",
   "nbconvert_exporter": "python",
   "pygments_lexer": "ipython3",
   "version": "3.12.3"
  }
 },
 "nbformat": 4,
 "nbformat_minor": 2
}
